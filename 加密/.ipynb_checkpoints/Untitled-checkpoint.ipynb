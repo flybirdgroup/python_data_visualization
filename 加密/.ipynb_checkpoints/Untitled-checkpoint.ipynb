{
 "cells": [
  {
   "cell_type": "code",
   "execution_count": 1,
   "metadata": {},
   "outputs": [
    {
     "name": "stdout",
     "output_type": "stream",
     "text": [
      "Pretty printing has been turned OFF\n"
     ]
    }
   ],
   "source": [
    "%config ZMQInteractiveShell.ast_node_interactivity='all'\n",
    "%pprint"
   ]
  },
  {
   "cell_type": "code",
   "execution_count": 2,
   "metadata": {},
   "outputs": [],
   "source": [
    "import json\n",
    "from pathlib import Path\n",
    "\n",
    "from secrets import token_bytes\n",
    "\n",
    "def random_key(length):\n",
    "    key = token_bytes(nbytes=length)\n",
    "    key_int = int.from_bytes(key, 'big')\n",
    "    return key_int\n",
    "\n",
    "def encrypt(raw):\n",
    "    raw_bytes = raw.encode()\n",
    "    raw_int = int.from_bytes(raw_bytes, 'big')\n",
    "    key_int = random_key(len(raw_bytes))\n",
    "    return raw_int ^ key_int, key_int\n",
    "\n",
    "\n",
    "def encrypt_file(path, key_path=None, *, encoding='utf-8'):\n",
    "    path = Path(path)\n",
    "    cwd = path.cwd() / path.name.split('.')[0]\n",
    "    path_encrypted = cwd / path.name \n",
    "    if key_path is None:\n",
    "        key_path = cwd / 'key'\n",
    "    if not cwd.exists():\n",
    "        cwd.mkdir()\n",
    "        path_encrypted.touch()\n",
    "        key_path.touch()\n",
    "\n",
    "    with path.open('rt', encoding=encoding) as f1, \\\n",
    "        path_encrypted.open('wt', encoding=encoding) as f2, \\\n",
    "            key_path.open('wt', encoding=encoding) as f3:\n",
    "        encrypted, key = encrypt(f1.read())\n",
    "        json.dump(encrypted, f2)\n",
    "        json.dump(key, f3)\n",
    "def decrypt(encrypted, key_int):\n",
    "    decrypted = encrypted ^ key_int\n",
    "    length = (decrypted.bit_length() + 7) // 8\n",
    "    decrypted_bytes = int.to_bytes(decrypted, length, 'big') \n",
    "    return decrypted_bytes.decode()"
   ]
  },
  {
   "cell_type": "code",
   "execution_count": 3,
   "metadata": {},
   "outputs": [],
   "source": [
    "encrypt_file('./test1.py')"
   ]
  },
  {
   "cell_type": "code",
   "execution_count": 4,
   "metadata": {},
   "outputs": [
    {
     "name": "stdout",
     "output_type": "stream",
     "text": [
      "def pawd():\r\n",
      "    print('give us your password')\r\n",
      "\r\n",
      "if __name__ == '__main__':\r\n",
      "    pawd()"
     ]
    }
   ],
   "source": [
    "!cat ./test1.py"
   ]
  },
  {
   "cell_type": "code",
   "execution_count": 5,
   "metadata": {},
   "outputs": [],
   "source": [
    "def decrypt_file(path_encrypted, key_path=None, *, encoding='utf-8'):\n",
    "    path_encrypted = Path(path_encrypted)\n",
    "    print(path_encrypted)\n",
    "    cwd = path_encrypted.cwd()\n",
    "    \n",
    "    path_decrypted = cwd / 'decrypted' \n",
    "#     if not path_decrypted.exists():\n",
    "#         path_decrypted.mkdir()\n",
    "#         path_decrypted /= path_encrypted.name\n",
    "#         path_decrypted.touch()\n",
    "#     if key_path is None:\n",
    "#         key_path = cwd / 'key'\n",
    "#     with path_encrypted.open('rt', encoding=encoding) as f1,key_path.open('rt', encoding=encoding) as f2,path_decrypted.open('wt', encoding=encoding) as f3:\n",
    "#         decrypted = decrypt(json.load(f1), json.load(f2))\n",
    "#         f3.write(decrypted)"
   ]
  },
  {
   "cell_type": "code",
   "execution_count": 6,
   "metadata": {},
   "outputs": [
    {
     "name": "stdout",
     "output_type": "stream",
     "text": [
      "test1/test1.py\n"
     ]
    }
   ],
   "source": [
    "decrypt_file('./test1/test1.py','./test1/key',encoding='utf-8')"
   ]
  },
  {
   "cell_type": "code",
   "execution_count": 8,
   "metadata": {},
   "outputs": [
    {
     "ename": "AttributeError",
     "evalue": "'str' object has no attribute 'cwd'",
     "output_type": "error",
     "traceback": [
      "\u001b[0;31m---------------------------------------------------------------------------\u001b[0m",
      "\u001b[0;31mAttributeError\u001b[0m                            Traceback (most recent call last)",
      "\u001b[0;32m<ipython-input-8-ec30a84fee03>\u001b[0m in \u001b[0;36m<module>\u001b[0;34m\u001b[0m\n\u001b[1;32m      1\u001b[0m \u001b[0mpath_encrypted\u001b[0m \u001b[0;34m=\u001b[0m\u001b[0;34m'./test1/test1.py'\u001b[0m\u001b[0;34m\u001b[0m\u001b[0;34m\u001b[0m\u001b[0m\n\u001b[0;32m----> 2\u001b[0;31m \u001b[0mcwd\u001b[0m \u001b[0;34m=\u001b[0m \u001b[0mpath_encrypted\u001b[0m\u001b[0;34m.\u001b[0m\u001b[0mcwd\u001b[0m\u001b[0;34m(\u001b[0m\u001b[0;34m)\u001b[0m\u001b[0;34m\u001b[0m\u001b[0;34m\u001b[0m\u001b[0m\n\u001b[0m\u001b[1;32m      3\u001b[0m \u001b[0mcwd\u001b[0m\u001b[0;34m\u001b[0m\u001b[0;34m\u001b[0m\u001b[0m\n",
      "\u001b[0;31mAttributeError\u001b[0m: 'str' object has no attribute 'cwd'"
     ]
    }
   ],
   "source": [
    "path_encrypted ='./test1/test1.py'\n",
    "path_encrypted = Path(path_encrypted)\n",
    "path_encrypted\n",
    "cwd = path_encrypted.cwd()\n",
    "cwd"
   ]
  },
  {
   "cell_type": "code",
   "execution_count": 41,
   "metadata": {},
   "outputs": [
    {
     "data": {
      "text/plain": [
       "PosixPath('test1/test1.py')"
      ]
     },
     "execution_count": 41,
     "metadata": {},
     "output_type": "execute_result"
    },
    {
     "data": {
      "text/plain": [
       "PosixPath('/Users/flybird/Desktop/汇丰/数据可视化')"
      ]
     },
     "execution_count": 41,
     "metadata": {},
     "output_type": "execute_result"
    },
    {
     "data": {
      "text/plain": [
       "PosixPath('/Users/flybird/Desktop/汇丰/数据可视化/decrypted')"
      ]
     },
     "execution_count": 41,
     "metadata": {},
     "output_type": "execute_result"
    }
   ],
   "source": [
    "path_encrypted = Path(path_encrypted)\n",
    "path_encrypted\n",
    "cwd = path_encrypted.cwd()\n",
    "cwd\n",
    "path_decrypted = cwd / 'decrypted' \n",
    "path_decrypted"
   ]
  },
  {
   "cell_type": "code",
   "execution_count": 40,
   "metadata": {},
   "outputs": [
    {
     "ename": "NameError",
     "evalue": "name 'key_path' is not defined",
     "output_type": "error",
     "traceback": [
      "\u001b[0;31m---------------------------------------------------------------------------\u001b[0m",
      "\u001b[0;31mNameError\u001b[0m                                 Traceback (most recent call last)",
      "\u001b[0;32m<ipython-input-40-d66a3064f3e6>\u001b[0m in \u001b[0;36m<module>\u001b[0;34m\u001b[0m\n\u001b[1;32m      4\u001b[0m     \u001b[0mpath_decrypted\u001b[0m\u001b[0;34m.\u001b[0m\u001b[0mtouch\u001b[0m\u001b[0;34m(\u001b[0m\u001b[0;34m)\u001b[0m\u001b[0;34m\u001b[0m\u001b[0;34m\u001b[0m\u001b[0m\n\u001b[1;32m      5\u001b[0m     \u001b[0mprint\u001b[0m\u001b[0;34m(\u001b[0m\u001b[0;34m'yes'\u001b[0m\u001b[0;34m)\u001b[0m\u001b[0;34m\u001b[0m\u001b[0;34m\u001b[0m\u001b[0m\n\u001b[0;32m----> 6\u001b[0;31m \u001b[0;32mif\u001b[0m \u001b[0mkey_path\u001b[0m \u001b[0;32mis\u001b[0m \u001b[0;32mNone\u001b[0m\u001b[0;34m:\u001b[0m\u001b[0;34m\u001b[0m\u001b[0;34m\u001b[0m\u001b[0m\n\u001b[0m\u001b[1;32m      7\u001b[0m     \u001b[0mkey_path\u001b[0m \u001b[0;34m=\u001b[0m \u001b[0mcwd\u001b[0m\u001b[0;34m/\u001b[0m\u001b[0;34m'test1'\u001b[0m\u001b[0;34m/\u001b[0m\u001b[0;34m'key'\u001b[0m\u001b[0;34m\u001b[0m\u001b[0;34m\u001b[0m\u001b[0m\n\u001b[1;32m      8\u001b[0m     \u001b[0mprint\u001b[0m\u001b[0;34m(\u001b[0m\u001b[0mkey_path\u001b[0m\u001b[0;34m)\u001b[0m\u001b[0;34m\u001b[0m\u001b[0;34m\u001b[0m\u001b[0m\n",
      "\u001b[0;31mNameError\u001b[0m: name 'key_path' is not defined"
     ]
    }
   ],
   "source": [
    "if not path_decrypted.exists():\n",
    "    path_decrypted.mkdir()\n",
    "    path_decrypted /= path_encrypted.name\n",
    "    path_decrypted.touch()\n",
    "    print('yes')\n",
    "if key_path is None:\n",
    "    key_path = test1/key\n",
    "    print(key_path)"
   ]
  },
  {
   "cell_type": "code",
   "execution_count": null,
   "metadata": {},
   "outputs": [],
   "source": []
  }
 ],
 "metadata": {
  "kernelspec": {
   "display_name": "Python 3",
   "language": "python",
   "name": "python3"
  },
  "language_info": {
   "codemirror_mode": {
    "name": "ipython",
    "version": 3
   },
   "file_extension": ".py",
   "mimetype": "text/x-python",
   "name": "python",
   "nbconvert_exporter": "python",
   "pygments_lexer": "ipython3",
   "version": "3.7.6"
  },
  "toc": {
   "base_numbering": 1,
   "nav_menu": {},
   "number_sections": true,
   "sideBar": true,
   "skip_h1_title": false,
   "title_cell": "Table of Contents",
   "title_sidebar": "Contents",
   "toc_cell": false,
   "toc_position": {},
   "toc_section_display": true,
   "toc_window_display": false
  }
 },
 "nbformat": 4,
 "nbformat_minor": 4
}
